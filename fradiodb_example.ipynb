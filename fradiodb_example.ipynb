{
 "cells": [
  {
   "cell_type": "code",
   "execution_count": null,
   "id": "0be54841",
   "metadata": {},
   "outputs": [],
   "source": [
    "import os\n",
    "os.environ['USE_PYGEOS'] = '0'\n",
    "from fradiodb import *\n",
    "import geopandas as gpd\n",
    "import folium\n",
    "DB='test.db'"
   ]
  },
  {
   "cell_type": "code",
   "execution_count": null,
   "id": "f6923f2b",
   "metadata": {},
   "outputs": [],
   "source": [
    "# If needed (N.B. by default it creates a folder \"etalab/\")\n",
    "download_data()"
   ]
  },
  {
   "cell_type": "code",
   "execution_count": null,
   "id": "d1ab6b65",
   "metadata": {},
   "outputs": [],
   "source": [
    "# If needed\n",
    "import_cities(DB)\n",
    "import_etalab_zip(DB)\n",
    "create_imtsectors_table(DB)"
   ]
  },
  {
   "cell_type": "code",
   "execution_count": null,
   "id": "44942bd5",
   "metadata": {},
   "outputs": [],
   "source": [
    "cnx = sqlite3.connect(DB)\n",
    "data = pd.read_sql_query(\"select * from gen_sectors limit 10\", cnx) # \"gen_sectors\" is a view (or table) convenient to see IMT sectors\n",
    "data # enables to see the fields/columns"
   ]
  },
  {
   "cell_type": "code",
   "execution_count": null,
   "id": "8c72f8d0",
   "metadata": {},
   "outputs": [],
   "source": [
    "data = pd.read_sql_query(\"select lat,lon,op,h from gen_sectors where op = 'SNCF Réseau' group by comsis\", cnx)\n",
    "df = gpd.GeoDataFrame(data, geometry=gpd.points_from_xy(x=data.lon, y=data.lat), crs=4326)\n",
    "df"
   ]
  },
  {
   "cell_type": "code",
   "execution_count": null,
   "id": "8987c6bc",
   "metadata": {},
   "outputs": [],
   "source": [
    "df.explore(column=h) # example of map, with color depending on a given field"
   ]
  }
 ],
 "metadata": {
  "kernelspec": {
   "display_name": "Python 3 (ipykernel)",
   "language": "python",
   "name": "python3"
  },
  "language_info": {
   "codemirror_mode": {
    "name": "ipython",
    "version": 3
   },
   "file_extension": ".py",
   "mimetype": "text/x-python",
   "name": "python",
   "nbconvert_exporter": "python",
   "pygments_lexer": "ipython3",
   "version": "3.11.3"
  }
 },
 "nbformat": 4,
 "nbformat_minor": 5
}
